{
 "cells": [
  {
   "cell_type": "code",
   "execution_count": 28,
   "metadata": {},
   "outputs": [],
   "source": [
    "%matplotlib inline\n",
    "import pandas as pd\n",
    "import numpy as np\n",
    "from math import sqrt, acos, cos\n",
    "import matplotlib.pyplot as plt\n",
    "from scipy.optimize import leastsq, curve_fit\n",
    "from math import pi"
   ]
  },
  {
   "cell_type": "code",
   "execution_count": 2,
   "metadata": {
    "scrolled": true
   },
   "outputs": [],
   "source": [
    "# opening the files and load them into pandas data frames:\n",
    "file_path = './'\n",
    "df_ee = pd.read_hdf(file_path + 'z0_mc_ee.h5')\n",
    "df_mm = pd.read_hdf(file_path + 'z0_mc_mm.h5')\n",
    "df_tt = pd.read_hdf(file_path + 'z0_mc_tt.h5')\n",
    "df_qq = pd.read_hdf(file_path + 'z0_mc_qq.h5')\n",
    "df_data1 = pd.read_hdf(file_path + 'z0_data1.h5')\n",
    "df_data2 = pd.read_hdf(file_path + 'z0_data2.h5')\n",
    "df_data3 = pd.read_hdf(file_path + 'z0_data3.h5')\n",
    "df_data4 = pd.read_hdf(file_path + 'z0_data4.h5')\n",
    "df_data5 = pd.read_hdf(file_path + 'z0_data5.h5')\n",
    "df_data6 = pd.read_hdf(file_path + 'z0_data6.h5')\n",
    "df_data7 = pd.read_hdf(file_path + 'z0_data7.h5')"
   ]
  },
  {
   "cell_type": "markdown",
   "metadata": {
    "collapsed": true
   },
   "source": [
    "- for now forget about the files labled 'dataN'\n",
    "- focus on those four files ee, mm, tt, qq\n",
    "- those are files with electrons (and positrons), muons (and anti-muons), taus (and anti-taus) and quarks (and anti-quarks) as decay products\n",
    "- they are stored in so-called data frames\n",
    "- data frames are 2dim tables (https://pandas.pydata.org/pandas-docs/stable/reference/api/pandas.DataFrame.html)\n",
    "- the next few cells show you how to use data frames"
   ]
  },
  {
   "cell_type": "code",
   "execution_count": 3,
   "metadata": {},
   "outputs": [
    {
     "data": {
      "text/html": [
       "<div>\n",
       "<style scoped>\n",
       "    .dataframe tbody tr th:only-of-type {\n",
       "        vertical-align: middle;\n",
       "    }\n",
       "\n",
       "    .dataframe tbody tr th {\n",
       "        vertical-align: top;\n",
       "    }\n",
       "\n",
       "    .dataframe thead th {\n",
       "        text-align: right;\n",
       "    }\n",
       "</style>\n",
       "<table border=\"1\" class=\"dataframe\">\n",
       "  <thead>\n",
       "    <tr style=\"text-align: right;\">\n",
       "      <th></th>\n",
       "      <th>acol</th>\n",
       "      <th>cos_thrust</th>\n",
       "      <th>cos_thrust_neg</th>\n",
       "      <th>cos_thrust_pos</th>\n",
       "      <th>d0_mean</th>\n",
       "      <th>e_ecal</th>\n",
       "      <th>e_hcal</th>\n",
       "      <th>e_lep</th>\n",
       "      <th>event</th>\n",
       "      <th>n_charged</th>\n",
       "      <th>n_ecal</th>\n",
       "      <th>n_muons</th>\n",
       "      <th>p_charged</th>\n",
       "      <th>phi_thrust</th>\n",
       "      <th>run</th>\n",
       "      <th>thrust</th>\n",
       "      <th>z0_mean</th>\n",
       "    </tr>\n",
       "  </thead>\n",
       "  <tbody>\n",
       "    <tr>\n",
       "      <th>0</th>\n",
       "      <td>0.155289</td>\n",
       "      <td>-0.589417</td>\n",
       "      <td>-0.588505</td>\n",
       "      <td>0.590264</td>\n",
       "      <td>0.015180</td>\n",
       "      <td>28.669762</td>\n",
       "      <td>7.166273</td>\n",
       "      <td>45.624001</td>\n",
       "      <td>1</td>\n",
       "      <td>2</td>\n",
       "      <td>3</td>\n",
       "      <td>2</td>\n",
       "      <td>63.770088</td>\n",
       "      <td>234.055801</td>\n",
       "      <td>1602</td>\n",
       "      <td>0.999725</td>\n",
       "      <td>-0.017415</td>\n",
       "    </tr>\n",
       "    <tr>\n",
       "      <th>1</th>\n",
       "      <td>0.303986</td>\n",
       "      <td>0.904068</td>\n",
       "      <td>0.905180</td>\n",
       "      <td>-0.902914</td>\n",
       "      <td>0.007920</td>\n",
       "      <td>6.565208</td>\n",
       "      <td>13.279085</td>\n",
       "      <td>45.624001</td>\n",
       "      <td>2</td>\n",
       "      <td>2</td>\n",
       "      <td>2</td>\n",
       "      <td>1</td>\n",
       "      <td>87.261551</td>\n",
       "      <td>58.205193</td>\n",
       "      <td>1602</td>\n",
       "      <td>0.999865</td>\n",
       "      <td>-1.051628</td>\n",
       "    </tr>\n",
       "    <tr>\n",
       "      <th>2</th>\n",
       "      <td>-999.000000</td>\n",
       "      <td>0.972364</td>\n",
       "      <td>-999.000000</td>\n",
       "      <td>-999.000000</td>\n",
       "      <td>0.000000</td>\n",
       "      <td>1.213779</td>\n",
       "      <td>8.500000</td>\n",
       "      <td>45.624001</td>\n",
       "      <td>3</td>\n",
       "      <td>0</td>\n",
       "      <td>1</td>\n",
       "      <td>2</td>\n",
       "      <td>0.000000</td>\n",
       "      <td>20.558077</td>\n",
       "      <td>1602</td>\n",
       "      <td>1.000000</td>\n",
       "      <td>0.000000</td>\n",
       "    </tr>\n",
       "    <tr>\n",
       "      <th>3</th>\n",
       "      <td>0.020996</td>\n",
       "      <td>-0.280547</td>\n",
       "      <td>-0.280719</td>\n",
       "      <td>0.280375</td>\n",
       "      <td>0.018727</td>\n",
       "      <td>1.104645</td>\n",
       "      <td>6.259569</td>\n",
       "      <td>45.624001</td>\n",
       "      <td>4</td>\n",
       "      <td>2</td>\n",
       "      <td>2</td>\n",
       "      <td>2</td>\n",
       "      <td>89.692673</td>\n",
       "      <td>-94.230476</td>\n",
       "      <td>1602</td>\n",
       "      <td>1.000000</td>\n",
       "      <td>0.181963</td>\n",
       "    </tr>\n",
       "    <tr>\n",
       "      <th>4</th>\n",
       "      <td>0.009750</td>\n",
       "      <td>0.558759</td>\n",
       "      <td>0.558685</td>\n",
       "      <td>-0.558837</td>\n",
       "      <td>0.006241</td>\n",
       "      <td>1.507646</td>\n",
       "      <td>9.535446</td>\n",
       "      <td>45.624001</td>\n",
       "      <td>5</td>\n",
       "      <td>2</td>\n",
       "      <td>2</td>\n",
       "      <td>1</td>\n",
       "      <td>90.301788</td>\n",
       "      <td>53.563972</td>\n",
       "      <td>1602</td>\n",
       "      <td>1.000000</td>\n",
       "      <td>-1.529448</td>\n",
       "    </tr>\n",
       "  </tbody>\n",
       "</table>\n",
       "</div>"
      ],
      "text/plain": [
       "         acol  cos_thrust  cos_thrust_neg  cos_thrust_pos   d0_mean  \\\n",
       "0    0.155289   -0.589417       -0.588505        0.590264  0.015180   \n",
       "1    0.303986    0.904068        0.905180       -0.902914  0.007920   \n",
       "2 -999.000000    0.972364     -999.000000     -999.000000  0.000000   \n",
       "3    0.020996   -0.280547       -0.280719        0.280375  0.018727   \n",
       "4    0.009750    0.558759        0.558685       -0.558837  0.006241   \n",
       "\n",
       "      e_ecal     e_hcal      e_lep  event  n_charged  n_ecal  n_muons  \\\n",
       "0  28.669762   7.166273  45.624001      1          2       3        2   \n",
       "1   6.565208  13.279085  45.624001      2          2       2        1   \n",
       "2   1.213779   8.500000  45.624001      3          0       1        2   \n",
       "3   1.104645   6.259569  45.624001      4          2       2        2   \n",
       "4   1.507646   9.535446  45.624001      5          2       2        1   \n",
       "\n",
       "   p_charged  phi_thrust   run    thrust   z0_mean  \n",
       "0  63.770088  234.055801  1602  0.999725 -0.017415  \n",
       "1  87.261551   58.205193  1602  0.999865 -1.051628  \n",
       "2   0.000000   20.558077  1602  1.000000  0.000000  \n",
       "3  89.692673  -94.230476  1602  1.000000  0.181963  \n",
       "4  90.301788   53.563972  1602  1.000000 -1.529448  "
      ]
     },
     "execution_count": 3,
     "metadata": {},
     "output_type": "execute_result"
    }
   ],
   "source": [
    "# inspect the frames:\n",
    "df_mm.head()"
   ]
  },
  {
   "cell_type": "markdown",
   "metadata": {},
   "source": [
    "**acol**: angle between thrust_pos and thrust_neg\n",
    "\n",
    "**thrust**: momentum weighted mean direction of all tracks\n",
    "\n",
    "**cos_thrust**: cosine of angle between thrust axis and beam axis\n",
    "\n",
    "**phi_thrust**: phi angle of thrust axis\n",
    "\n",
    "**cos_thrust_neg/pos**: see above but for fermion/anti-fermion\n",
    "\n",
    "**d0_mean**: mean distance of all tracks to the dectector center in r-phi-plane\n",
    "\n",
    "**z0_mean**: mean distance of all tracks to the dectector center along z axis (beam axis)\n",
    "\n",
    "**e_ecal**: energy in ECAL (in GeV)\n",
    "\n",
    "**e_hcal**: energy in HCAL (in GeV)\n",
    "\n",
    "**e_lep**: LEP beam energy (in GeV)\n",
    "\n",
    "**event**: event number\n",
    "\n",
    "**run**: run number\n",
    "\n",
    "**n_charged**: number of charged particles (number of tracks)\n",
    "\n",
    "**n_ecal**: number of entries (hits) in the ECAL\n",
    "\n",
    "**n_muons**: number of muons found\n",
    "\n",
    "**p_charged**: scalar sum of all momenta based on tracks found\n"
   ]
  },
  {
   "cell_type": "code",
   "execution_count": 4,
   "metadata": {},
   "outputs": [
    {
     "data": {
      "text/html": [
       "<div>\n",
       "<style scoped>\n",
       "    .dataframe tbody tr th:only-of-type {\n",
       "        vertical-align: middle;\n",
       "    }\n",
       "\n",
       "    .dataframe tbody tr th {\n",
       "        vertical-align: top;\n",
       "    }\n",
       "\n",
       "    .dataframe thead th {\n",
       "        text-align: right;\n",
       "    }\n",
       "</style>\n",
       "<table border=\"1\" class=\"dataframe\">\n",
       "  <thead>\n",
       "    <tr style=\"text-align: right;\">\n",
       "      <th></th>\n",
       "      <th>acol</th>\n",
       "      <th>cos_thrust</th>\n",
       "      <th>cos_thrust_neg</th>\n",
       "      <th>cos_thrust_pos</th>\n",
       "      <th>d0_mean</th>\n",
       "      <th>e_ecal</th>\n",
       "      <th>e_hcal</th>\n",
       "      <th>e_lep</th>\n",
       "      <th>event</th>\n",
       "      <th>n_charged</th>\n",
       "      <th>n_ecal</th>\n",
       "      <th>n_muons</th>\n",
       "      <th>p_charged</th>\n",
       "      <th>phi_thrust</th>\n",
       "      <th>run</th>\n",
       "      <th>thrust</th>\n",
       "      <th>z0_mean</th>\n",
       "      <th>E</th>\n",
       "    </tr>\n",
       "  </thead>\n",
       "  <tbody>\n",
       "    <tr>\n",
       "      <th>0</th>\n",
       "      <td>0.155289</td>\n",
       "      <td>-0.589417</td>\n",
       "      <td>-0.588505</td>\n",
       "      <td>0.590264</td>\n",
       "      <td>0.015180</td>\n",
       "      <td>28.669762</td>\n",
       "      <td>7.166273</td>\n",
       "      <td>45.624001</td>\n",
       "      <td>1</td>\n",
       "      <td>2</td>\n",
       "      <td>3</td>\n",
       "      <td>2</td>\n",
       "      <td>63.770088</td>\n",
       "      <td>234.055801</td>\n",
       "      <td>1602</td>\n",
       "      <td>0.999725</td>\n",
       "      <td>-0.017415</td>\n",
       "      <td>35.836035</td>\n",
       "    </tr>\n",
       "    <tr>\n",
       "      <th>1</th>\n",
       "      <td>0.303986</td>\n",
       "      <td>0.904068</td>\n",
       "      <td>0.905180</td>\n",
       "      <td>-0.902914</td>\n",
       "      <td>0.007920</td>\n",
       "      <td>6.565208</td>\n",
       "      <td>13.279085</td>\n",
       "      <td>45.624001</td>\n",
       "      <td>2</td>\n",
       "      <td>2</td>\n",
       "      <td>2</td>\n",
       "      <td>1</td>\n",
       "      <td>87.261551</td>\n",
       "      <td>58.205193</td>\n",
       "      <td>1602</td>\n",
       "      <td>0.999865</td>\n",
       "      <td>-1.051628</td>\n",
       "      <td>19.844293</td>\n",
       "    </tr>\n",
       "    <tr>\n",
       "      <th>2</th>\n",
       "      <td>-999.000000</td>\n",
       "      <td>0.972364</td>\n",
       "      <td>-999.000000</td>\n",
       "      <td>-999.000000</td>\n",
       "      <td>0.000000</td>\n",
       "      <td>1.213779</td>\n",
       "      <td>8.500000</td>\n",
       "      <td>45.624001</td>\n",
       "      <td>3</td>\n",
       "      <td>0</td>\n",
       "      <td>1</td>\n",
       "      <td>2</td>\n",
       "      <td>0.000000</td>\n",
       "      <td>20.558077</td>\n",
       "      <td>1602</td>\n",
       "      <td>1.000000</td>\n",
       "      <td>0.000000</td>\n",
       "      <td>9.713779</td>\n",
       "    </tr>\n",
       "    <tr>\n",
       "      <th>3</th>\n",
       "      <td>0.020996</td>\n",
       "      <td>-0.280547</td>\n",
       "      <td>-0.280719</td>\n",
       "      <td>0.280375</td>\n",
       "      <td>0.018727</td>\n",
       "      <td>1.104645</td>\n",
       "      <td>6.259569</td>\n",
       "      <td>45.624001</td>\n",
       "      <td>4</td>\n",
       "      <td>2</td>\n",
       "      <td>2</td>\n",
       "      <td>2</td>\n",
       "      <td>89.692673</td>\n",
       "      <td>-94.230476</td>\n",
       "      <td>1602</td>\n",
       "      <td>1.000000</td>\n",
       "      <td>0.181963</td>\n",
       "      <td>7.364214</td>\n",
       "    </tr>\n",
       "    <tr>\n",
       "      <th>4</th>\n",
       "      <td>0.009750</td>\n",
       "      <td>0.558759</td>\n",
       "      <td>0.558685</td>\n",
       "      <td>-0.558837</td>\n",
       "      <td>0.006241</td>\n",
       "      <td>1.507646</td>\n",
       "      <td>9.535446</td>\n",
       "      <td>45.624001</td>\n",
       "      <td>5</td>\n",
       "      <td>2</td>\n",
       "      <td>2</td>\n",
       "      <td>1</td>\n",
       "      <td>90.301788</td>\n",
       "      <td>53.563972</td>\n",
       "      <td>1602</td>\n",
       "      <td>1.000000</td>\n",
       "      <td>-1.529448</td>\n",
       "      <td>11.043092</td>\n",
       "    </tr>\n",
       "  </tbody>\n",
       "</table>\n",
       "</div>"
      ],
      "text/plain": [
       "         acol  cos_thrust  cos_thrust_neg  cos_thrust_pos   d0_mean  \\\n",
       "0    0.155289   -0.589417       -0.588505        0.590264  0.015180   \n",
       "1    0.303986    0.904068        0.905180       -0.902914  0.007920   \n",
       "2 -999.000000    0.972364     -999.000000     -999.000000  0.000000   \n",
       "3    0.020996   -0.280547       -0.280719        0.280375  0.018727   \n",
       "4    0.009750    0.558759        0.558685       -0.558837  0.006241   \n",
       "\n",
       "      e_ecal     e_hcal      e_lep  event  n_charged  n_ecal  n_muons  \\\n",
       "0  28.669762   7.166273  45.624001      1          2       3        2   \n",
       "1   6.565208  13.279085  45.624001      2          2       2        1   \n",
       "2   1.213779   8.500000  45.624001      3          0       1        2   \n",
       "3   1.104645   6.259569  45.624001      4          2       2        2   \n",
       "4   1.507646   9.535446  45.624001      5          2       2        1   \n",
       "\n",
       "   p_charged  phi_thrust   run    thrust   z0_mean          E  \n",
       "0  63.770088  234.055801  1602  0.999725 -0.017415  35.836035  \n",
       "1  87.261551   58.205193  1602  0.999865 -1.051628  19.844293  \n",
       "2   0.000000   20.558077  1602  1.000000  0.000000   9.713779  \n",
       "3  89.692673  -94.230476  1602  1.000000  0.181963   7.364214  \n",
       "4  90.301788   53.563972  1602  1.000000 -1.529448  11.043092  "
      ]
     },
     "execution_count": 4,
     "metadata": {},
     "output_type": "execute_result"
    }
   ],
   "source": [
    "# add a column:\n",
    "df_mm['E'] = df_mm.e_ecal + df_mm.e_hcal\n",
    "df_mm.head()"
   ]
  },
  {
   "cell_type": "code",
   "execution_count": 5,
   "metadata": {},
   "outputs": [
    {
     "data": {
      "text/plain": [
       "<AxesSubplot:>"
      ]
     },
     "execution_count": 5,
     "metadata": {},
     "output_type": "execute_result"
    },
    {
     "data": {
      "image/png": "[encoded data removed]",
      "text/plain": [
       "<Figure size 432x288 with 1 Axes>"
      ]
     },
     "metadata": {
      "needs_background": "light"
     },
     "output_type": "display_data"
    }
   ],
   "source": [
    "# simple histogram\n",
    "df_ee['e_ecal'].hist()"
   ]
  },
  {
   "cell_type": "code",
   "execution_count": 6,
   "metadata": {},
   "outputs": [
    {
     "data": {
      "text/plain": [
       "<AxesSubplot:>"
      ]
     },
     "execution_count": 6,
     "metadata": {},
     "output_type": "execute_result"
    },
    {
     "data": {
      "image/png": "[encoded data removed]",
      "text/plain": [
       "<Figure size 432x288 with 1 Axes>"
      ]
     },
     "metadata": {
      "needs_background": "light"
     },
     "output_type": "display_data"
    }
   ],
   "source": [
    "#change the binning\n",
    "bin_list = [0 + i  for i in range(120)]\n",
    "df_ee['e_ecal'].hist(bins=bin_list)"
   ]
  },
  {
   "cell_type": "code",
   "execution_count": 7,
   "metadata": {},
   "outputs": [
    {
     "data": {
      "text/plain": [
       "<AxesSubplot:>"
      ]
     },
     "execution_count": 7,
     "metadata": {},
     "output_type": "execute_result"
    },
    {
     "data": {
      "image/png": "[encoded data removed]",
      "text/plain": [
       "<Figure size 432x288 with 1 Axes>"
      ]
     },
     "metadata": {
      "needs_background": "light"
     },
     "output_type": "display_data"
    }
   ],
   "source": [
    "# use selection\n",
    "df_ee.e_ecal[df_ee.e_ecal > 70].hist(bins=bin_list)"
   ]
  },
  {
   "cell_type": "code",
   "execution_count": 8,
   "metadata": {},
   "outputs": [
    {
     "data": {
      "text/plain": [
       "<AxesSubplot:>"
      ]
     },
     "execution_count": 8,
     "metadata": {},
     "output_type": "execute_result"
    },
    {
     "data": {
      "image/png": "[encoded data removed]",
      "text/plain": [
       "<Figure size 432x288 with 1 Axes>"
      ]
     },
     "metadata": {
      "needs_background": "light"
     },
     "output_type": "display_data"
    }
   ],
   "source": [
    "# use complex expressions:\n",
    "cut = 'abs(cos_thrust) < 0.9 and n_charged > 2'\n",
    "df_qq.query(cut).n_charged.hist()"
   ]
  },
  {
   "cell_type": "code",
   "execution_count": 9,
   "metadata": {},
   "outputs": [],
   "source": [
    "# find 4 selection criteria/filter: (dummies in this example)\n",
    "cut_ee = 'abs(cos_thrust) < 0.9'\n",
    "cut_mm = 'abs(cos_thrust) < 0.9 and n_muons < 3'\n",
    "cut_tt = 'abs(cos_thrust) < 0.9 and n_charged > 4 and n_charged < 14'\n",
    "cut_qq = 'abs(cos_thrust) < 0.9 and n_charged > 10'"
   ]
  },
  {
   "cell_type": "code",
   "execution_count": 10,
   "metadata": {},
   "outputs": [],
   "source": [
    "#calculate filter efficiencies:\n",
    "\n",
    "# a little helper function to make it a litte more readable\n",
    "\n",
    "def ratio(numerator, denominator=100000):\n",
    "    return numerator / denominator\n",
    "\n",
    "# applying the electron filter\n",
    "eff_ee = ratio( len(df_ee.query(cut_ee)) )\n",
    "eff_me = ratio( len(df_mm.query(cut_ee)) )\n",
    "eff_te = ratio( len(df_tt.query(cut_ee)) )\n",
    "eff_qe = ratio( len(df_qq.query(cut_ee)) )\n",
    "\n",
    "# applying the muon filter\n",
    "eff_em = ratio( len(df_ee.query(cut_mm)) )\n",
    "eff_mm = ratio( len(df_mm.query(cut_mm)) )\n",
    "eff_tm = ratio( len(df_tt.query(cut_mm)) )\n",
    "eff_qm = ratio( len(df_qq.query(cut_mm)) )\n",
    "\n",
    "# applying the tau filter\n",
    "eff_et = ratio( len(df_ee.query(cut_tt)) )\n",
    "eff_mt = ratio( len(df_mm.query(cut_tt)) )\n",
    "eff_tt = ratio( len(df_tt.query(cut_tt)) )\n",
    "eff_qt = ratio( len(df_qq.query(cut_tt)) )\n",
    "\n",
    "# applying the hadron filter\n",
    "eff_eq = ratio( len(df_ee.query(cut_qq)) )\n",
    "eff_mq = ratio( len(df_mm.query(cut_qq)) )\n",
    "eff_tq = ratio( len(df_tt.query(cut_qq)) )\n",
    "eff_qq = ratio( len(df_qq.query(cut_qq)) )\n",
    "\n"
   ]
  },
  {
   "cell_type": "code",
   "execution_count": 11,
   "metadata": {},
   "outputs": [
    {
     "name": "stdout",
     "output_type": "stream",
     "text": [
      "[[17 39]]\n",
      "[[23 34]]\n"
     ]
    }
   ],
   "source": [
    "# quick example of how matrices and vectors work in numpy\n",
    "m = np.matrix([[1, 2],[3,4]])\n",
    "v = np.array([5, 6])\n",
    "v_t = np.transpose(v)\n",
    "\n",
    "print(m.dot(v))\n",
    "print(v.dot(m))\n"
   ]
  },
  {
   "cell_type": "code",
   "execution_count": 12,
   "metadata": {},
   "outputs": [
    {
     "data": {
      "text/plain": [
       "matrix([[-1.76136567e+04,  1.76159079e+04, -1.72128398e+01,\n",
       "          1.86176972e+01],\n",
       "        [ 8.94282537e+03, -8.94280509e+03, -7.41889154e+00,\n",
       "         -8.33713247e+00],\n",
       "        [ 3.29797946e+02, -3.29843106e+02,  1.65226481e+01,\n",
       "         -2.67424522e+00],\n",
       "        [-2.25492236e-01,  2.25523113e-01, -1.12970044e-02,\n",
       "          1.18067060e+00]])"
      ]
     },
     "execution_count": 12,
     "metadata": {},
     "output_type": "execute_result"
    }
   ],
   "source": [
    "# invert efficiency matrix\n",
    "eff_M = np.matrix([[eff_ee, eff_me, eff_te, eff_qe],\\\n",
    "                   [eff_em, eff_mm, eff_tm, eff_qm],\\\n",
    "                   [eff_et, eff_mt, eff_tt, eff_qt],\\\n",
    "                   [eff_eq, eff_mq, eff_tq, eff_qq]])\n",
    "\n",
    "\n",
    "eff_M_inv = np.linalg.inv(eff_M)\n",
    "eff_M_inv"
   ]
  },
  {
   "cell_type": "code",
   "execution_count": 13,
   "metadata": {},
   "outputs": [],
   "source": [
    "# get numbers from data\n",
    "\n",
    "# make life a little easier with \n",
    "def get_filtered_data_events(cut):\n",
    "    data_sets = [df_data1, df_data2, df_data3, df_data4, df_data5, df_data6, df_data7]\n",
    "    filtered_events = []\n",
    "    for ds in data_sets:\n",
    "        n = len(ds.query(cut))\n",
    "        filtered_events.append(n)\n",
    "    return filtered_events\n",
    "        \n",
    "        \n",
    "\n",
    "#electron filter\n",
    "n_ee = get_filtered_data_events(cut_ee)\n",
    "\n",
    "#muon filter\n",
    "n_mm = get_filtered_data_events(cut_mm)\n",
    "\n",
    "#electron filter\n",
    "n_tt = get_filtered_data_events(cut_tt)\n",
    "\n",
    "#electron filter\n",
    "n_qq = get_filtered_data_events(cut_qq)\n"
   ]
  },
  {
   "cell_type": "code",
   "execution_count": 14,
   "metadata": {},
   "outputs": [],
   "source": [
    "#we have now the selected data events\n",
    "#selected by our filter/cuts\n",
    "#results are stored in a list of length seven (seven datasets)\n",
    "\n",
    "#next up is to apply the inverse matrix\n",
    "#N0 = M^(-1) * N_selected\n",
    "\n",
    "#loop over all 7 data sets\n",
    "\n",
    "n0_ee = []\n",
    "n0_mm = []\n",
    "n0_tt = []\n",
    "n0_qq = []\n",
    "\n",
    "for i in range(7):\n",
    "    #put together N_selected vector:\n",
    "    n_selected_v = np.array([n_ee[i], n_mm[i], n_tt[i], n_qq[i]])\n",
    "    \n",
    "    #multiply with inverse matrix:\n",
    "    n0_v = np.array(eff_M_inv.dot(n_selected_v))[0]\n",
    "   \n",
    "    #put electron events to eletectron vector, muon events to muon vector, ...\n",
    "    n0_ee.append(n0_v[0])\n",
    "    n0_mm.append(n0_v[1])\n",
    "    n0_tt.append(n0_v[2])\n",
    "    n0_qq.append(n0_v[3])"
   ]
  },
  {
   "cell_type": "code",
   "execution_count": 15,
   "metadata": {},
   "outputs": [],
   "source": [
    "# eventually calculate cross_sections\n",
    "\n",
    "luminosities = [1303.1, 1394.2, 1265.2, 7901.2, 1312.2, 1356.1, 1493.2]\n",
    "\n",
    "# convert lists to numpy arrays to benefit from division by element\n",
    "\n",
    "luminosities = np.array(luminosities)\n",
    "n0_ee = np.array(n0_ee)\n",
    "n0_mm = np.array(n0_mm)\n",
    "n0_tt = np.array(n0_tt)\n",
    "n0_qq = np.array(n0_qq)\n",
    "\n",
    "sigma_ee = n0_ee / luminosities\n",
    "sigma_mm = n0_mm / luminosities\n",
    "sigma_tt = n0_tt / luminosities\n",
    "sigma_qq = n0_qq / luminosities\n",
    "\n",
    "# at this point the cross sections are ready to be plotted"
   ]
  },
  {
   "cell_type": "code",
   "execution_count": null,
   "metadata": {},
   "outputs": [],
   "source": [
    "\n"
   ]
  },
  {
   "cell_type": "code",
   "execution_count": 16,
   "metadata": {},
   "outputs": [
    {
     "data": {
      "image/png": "[encoded data removed]",
      "text/plain": [
       "<Figure size 432x288 with 1 Axes>"
      ]
     },
     "metadata": {
      "needs_background": "light"
     },
     "output_type": "display_data"
    }
   ],
   "source": [
    "# now let's have a look at the s-channel electron fit\n",
    "# first we create a histogram for the electrons:\n",
    "# the region around 0 is assumed to follow a parabola\n",
    "\n",
    "hist = df_ee.query(cut_ee).cos_thrust.hist(bins=40)"
   ]
  },
  {
   "cell_type": "code",
   "execution_count": 17,
   "metadata": {},
   "outputs": [],
   "source": [
    "# in order to fit the data we need to extract the data from the histrogram\n",
    "# here is a little helper function that does that for us\n",
    "\n",
    "def get_hist(ax):\n",
    "    n,bins, err = [],[],[]\n",
    "    for rect in ax.patches:\n",
    "        ((x0, y0), (x1, y1)) = rect.get_bbox().get_points()\n",
    "        # in which region do you want to do the fit\n",
    "        if (abs(x0) < 0.4):   \n",
    "            n.append(y1-y0)\n",
    "            bins.append(x0 + (x1 - x0) / 2.0) # bin center\n",
    "            err.append(sqrt(y1-y0))\n",
    "\n",
    "    return n, bins, err"
   ]
  },
  {
   "cell_type": "code",
   "execution_count": 18,
   "metadata": {},
   "outputs": [],
   "source": [
    "# the x data, y data and the corresponding uncertainties are now avaible in the following arrays/lists\n",
    "y_data, x_data, y_err = get_hist(hist)\n",
    "x_data = np.array(x_data)\n",
    "y_data = np.array(y_data)\n",
    "y_err = np.array(y_err)\n"
   ]
  },
  {
   "cell_type": "code",
   "execution_count": 19,
   "metadata": {},
   "outputs": [],
   "source": [
    "# the function that we want to fit is of quadratic nature\n",
    "\n",
    "def quadratic_func(x, a, b):\n",
    "    return  a + b * x ** 2\n",
    "\n"
   ]
  },
  {
   "cell_type": "code",
   "execution_count": 20,
   "metadata": {},
   "outputs": [
    {
     "data": {
      "text/plain": [
       "(array([647.02128861, 845.32447124]),\n",
       " array([[  250.23992352, -2805.86881238],\n",
       "        [-2805.86881238, 57142.29800358]]))"
      ]
     },
     "execution_count": 20,
     "metadata": {},
     "output_type": "execute_result"
    }
   ],
   "source": [
    "curve_fit(quadratic_func, x_data, y_data, [630, 50])"
   ]
  },
  {
   "cell_type": "code",
   "execution_count": 21,
   "metadata": {},
   "outputs": [],
   "source": [
    "# the first list/array is the optimal set of parameters: 647 and 845\n",
    "# you can verify the fit by looking at the histogram:"
   ]
  },
  {
   "cell_type": "code",
   "execution_count": 22,
   "metadata": {
    "scrolled": true
   },
   "outputs": [
    {
     "data": {
      "text/plain": [
       "[<matplotlib.lines.Line2D at 0x11635ae50>]"
      ]
     },
     "execution_count": 22,
     "metadata": {},
     "output_type": "execute_result"
    },
    {
     "data": {
      "image/png": "[encoded data removed]",
      "text/plain": [
       "<Figure size 432x288 with 1 Axes>"
      ]
     },
     "metadata": {
      "needs_background": "light"
     },
     "output_type": "display_data"
    }
   ],
   "source": [
    "hist = df_ee.query(cut_ee).cos_thrust.hist(bins=40)\n",
    "plt.plot(x_data, quadratic_func(x_data, 647, 845))"
   ]
  },
  {
   "cell_type": "code",
   "execution_count": 24,
   "metadata": {},
   "outputs": [],
   "source": [
    "# up next: BW fit"
   ]
  },
  {
   "cell_type": "code",
   "execution_count": 29,
   "metadata": {},
   "outputs": [],
   "source": [
    "def breit_wigner(x, par):\n",
    "    return par[0]*x*x*par[2]*par[2]/((x*x-par[1]*par[1])**2+(x**4*par[2]**2)/par[1]**2)\n",
    "\n",
    "def breit_wigner_corrected(x, par):\n",
    "    bw = par[0]*x*x*par[2]*par[2]/((x*x-par[1]*par[1])**2+(x**4*par[2]**2)/par[1]**2)\n",
    "    \n",
    "    conv  = 389387\n",
    "    sw    = 0.23\n",
    "    qfgvf  = 2.* 2./3.*(0.5- 2.*sw* 2./3.) + 3.*(-1./3.)*((-0.5)- 2.*sw*(-1./3.));\n",
    "    qsum   = 11./9.;\n",
    "\n",
    "    ncolor = 3.\n",
    "    aQED  = 1./128.9\n",
    "    \n",
    "    return bw + conv * 4./3.*math.pi*qsum*ncolor*aQED**2/x**2"
   ]
  },
  {
   "cell_type": "code",
   "execution_count": null,
   "metadata": {},
   "outputs": [],
   "source": []
  },
  {
   "cell_type": "code",
   "execution_count": 1,
   "metadata": {},
   "outputs": [
    {
     "ename": "NameError",
     "evalue": "name 'par' is not defined",
     "output_type": "error",
     "traceback": [
      "\u001b[0;31m---------------------------------------------------------------------------\u001b[0m",
      "\u001b[0;31mNameError\u001b[0m                                 Traceback (most recent call last)",
      "\u001b[0;32m/var/folders/4f/cmgmn8mj0031_c_hrw9nxc0m0000gn/T/ipykernel_18121/4204924821.py\u001b[0m in \u001b[0;36m<module>\u001b[0;34m\u001b[0m\n\u001b[0;32m----> 1\u001b[0;31m \u001b[0mbwfit\u001b[0m \u001b[0;34m=\u001b[0m  \u001b[0mpar\u001b[0m\u001b[0;34m[\u001b[0m\u001b[0;36m0\u001b[0m\u001b[0;34m]\u001b[0m\u001b[0;34m*\u001b[0m\u001b[0mx\u001b[0m\u001b[0;34m*\u001b[0m\u001b[0mx\u001b[0m\u001b[0;34m*\u001b[0m\u001b[0mpar\u001b[0m\u001b[0;34m[\u001b[0m\u001b[0;36m2\u001b[0m\u001b[0;34m]\u001b[0m\u001b[0;34m*\u001b[0m\u001b[0mpar\u001b[0m\u001b[0;34m[\u001b[0m\u001b[0;36m2\u001b[0m\u001b[0;34m]\u001b[0m\u001b[0;34m/\u001b[0m\u001b[0;34m(\u001b[0m\u001b[0;34m(\u001b[0m\u001b[0mx\u001b[0m\u001b[0;34m*\u001b[0m\u001b[0mx\u001b[0m\u001b[0;34m-\u001b[0m\u001b[0mpar\u001b[0m\u001b[0;34m[\u001b[0m\u001b[0;36m1\u001b[0m\u001b[0;34m]\u001b[0m\u001b[0;34m*\u001b[0m\u001b[0mpar\u001b[0m\u001b[0;34m[\u001b[0m\u001b[0;36m1\u001b[0m\u001b[0;34m]\u001b[0m\u001b[0;34m)\u001b[0m\u001b[0;34m**\u001b[0m\u001b[0;36m2\u001b[0m\u001b[0;34m+\u001b[0m\u001b[0;34m(\u001b[0m\u001b[0mx\u001b[0m\u001b[0;34m**\u001b[0m\u001b[0;36m4\u001b[0m\u001b[0;34m*\u001b[0m\u001b[0mpar\u001b[0m\u001b[0;34m[\u001b[0m\u001b[0;36m2\u001b[0m\u001b[0;34m]\u001b[0m\u001b[0;34m**\u001b[0m\u001b[0;36m2\u001b[0m\u001b[0;34m)\u001b[0m\u001b[0;34m/\u001b[0m\u001b[0mpar\u001b[0m\u001b[0;34m[\u001b[0m\u001b[0;36m1\u001b[0m\u001b[0;34m]\u001b[0m\u001b[0;34m**\u001b[0m\u001b[0;36m2\u001b[0m\u001b[0;34m)\u001b[0m\u001b[0;34m\u001b[0m\u001b[0;34m\u001b[0m\u001b[0m\n\u001b[0m\u001b[1;32m      2\u001b[0m \u001b[0;31m# QED and hadronic corrections:\u001b[0m\u001b[0;34m\u001b[0m\u001b[0;34m\u001b[0m\u001b[0m\n\u001b[1;32m      3\u001b[0m \u001b[0;34m\u001b[0m\u001b[0m\n\u001b[1;32m      4\u001b[0m \u001b[0mconv\u001b[0m  \u001b[0;34m=\u001b[0m \u001b[0;36m389387\u001b[0m\u001b[0;34m\u001b[0m\u001b[0;34m\u001b[0m\u001b[0m\n\u001b[1;32m      5\u001b[0m \u001b[0msw\u001b[0m    \u001b[0;34m=\u001b[0m \u001b[0;36m0.23\u001b[0m\u001b[0;34m\u001b[0m\u001b[0;34m\u001b[0m\u001b[0m\n",
      "\u001b[0;31mNameError\u001b[0m: name 'par' is not defined"
     ]
    }
   ],
   "source": [
    "bwfit =  par[0]*x*x*par[2]*par[2]/((x*x-par[1]*par[1])**2+(x**4*par[2]**2)/par[1]**2)\n",
    "# QED and hadronic corrections:\n",
    " \n",
    "conv  = 389387\n",
    "sw    = 0.23\n",
    "qfgvf  = 2.* 2./3.*(0.5- 2.*sw* 2./3.) + 3.*(-1./3.)*((-0.5)- 2.*sw*(-1./3.));\n",
    "qsum   = 11./9.;\n",
    "\n",
    "ncolor = 3.\n",
    "aQED  = 1./128.9\n",
    "\n",
    "bwfit_cor = bwfit + conv * 4./3.*PI*qsum*ncolor*aQED**2/x**2\n"
   ]
  },
  {
   "cell_type": "code",
   "execution_count": null,
   "metadata": {},
   "outputs": [],
   "source": []
  }
 ],
 "metadata": {
  "kernelspec": {
   "display_name": "Python 3 (ipykernel)",
   "language": "python",
   "name": "python3"
  },
  "language_info": {
   "codemirror_mode": {
    "name": "ipython",
    "version": 3
   },
   "file_extension": ".py",
   "mimetype": "text/x-python",
   "name": "python",
   "nbconvert_exporter": "python",
   "pygments_lexer": "ipython3",
   "version": "3.9.7"
  }
 },
 "nbformat": 4,
 "nbformat_minor": 2
}
